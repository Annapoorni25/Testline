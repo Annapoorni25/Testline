{
 "cells": [
  {
   "cell_type": "code",
   "execution_count": 1,
   "id": "8bbb0be8-0c3c-45c0-9e90-5e4cdf738d72",
   "metadata": {},
   "outputs": [
    {
     "name": "stdout",
     "output_type": "stream",
     "text": [
      "=== Topic-Wise Performance Summary ===\n",
      "                                 topic difficulty_level  total_questions  \\\n",
      "0  structural organisation in animals           Unknown              128   \n",
      "\n",
      "   avg_correct_count  weak_topic               recommendation  \n",
      "0                1.0        True  Focus on practice questions  \n",
      "\n",
      "=== Recommendations for Improvement ===\n",
      "                                 topic difficulty_level  \\\n",
      "0  structural organisation in animals           Unknown   \n",
      "\n",
      "                recommendation  \n",
      "0  Focus on practice questions  \n"
     ]
    },
    {
     "name": "stderr",
     "output_type": "stream",
     "text": [
      "C:\\Users\\haree\\AppData\\Local\\Temp\\ipykernel_18484\\837749056.py:16: SettingWithCopyWarning: \n",
      "A value is trying to be set on a copy of a slice from a DataFrame.\n",
      "Try using .loc[row_indexer,col_indexer] = value instead\n",
      "\n",
      "See the caveats in the documentation: https://pandas.pydata.org/pandas-docs/stable/user_guide/indexing.html#returning-a-view-versus-a-copy\n",
      "  data_cleaned[\"difficulty_level\"] = data_cleaned[\"difficulty_level\"].fillna(\"Unknown\")\n",
      "C:\\Users\\haree\\AppData\\Local\\Temp\\ipykernel_18484\\837749056.py:23: SettingWithCopyWarning: \n",
      "A value is trying to be set on a copy of a slice from a DataFrame.\n",
      "Try using .loc[row_indexer,col_indexer] = value instead\n",
      "\n",
      "See the caveats in the documentation: https://pandas.pydata.org/pandas-docs/stable/user_guide/indexing.html#returning-a-view-versus-a-copy\n",
      "  data_cleaned[\"correct_count\"] = data_cleaned[correct_columns].sum(axis=1)\n"
     ]
    }
   ],
   "source": [
    "import pandas as pd\n",
    "\n",
    "\n",
    "file_path =  \"C://Users//haree//Downloads//quizdataset.csv\"                                #setting path to Load the dataset\n",
    "data = pd.read_csv(file_path)                                                              \n",
    "\n",
    "\n",
    "columns_to_keep = [                                                                        #data cleaing and oreparation\n",
    "    \"id\", \"topic\", \"difficulty_level\", \"options/0/is_correct\",\n",
    "    \"options/1/is_correct\", \"options/2/is_correct\", \"options/3/is_correct\"\n",
    "]\n",
    "data_cleaned = data[columns_to_keep]\n",
    "data_cleaned[\"difficulty_level\"] = data_cleaned[\"difficulty_level\"].fillna(\"Unknown\")      #filling missing values\n",
    "\n",
    "\n",
    "correct_columns = [                                                                        #Add response accuracy for each question\n",
    "    \"options/0/is_correct\", \"options/1/is_correct\", \n",
    "    \"options/2/is_correct\", \"options/3/is_correct\"\n",
    "]\n",
    "data_cleaned[\"correct_count\"] = data_cleaned[correct_columns].sum(axis=1)\n",
    "\n",
    "\n",
    "topic_summary = data_cleaned.groupby([\"topic\", \"difficulty_level\"]).agg(                   #Group by topic and difficulty level\n",
    "    total_questions=(\"id\", \"count\"),\n",
    "    avg_correct_count=(\"correct_count\", \"mean\")\n",
    ").reset_index()\n",
    "\n",
    "\n",
    "topic_summary[\"weak_topic\"] = topic_summary[\"avg_correct_count\"] < 1.5                     #Identifying weak topics(average correct count below threshold)\n",
    "\n",
    "\n",
    "weak_topics = topic_summary[topic_summary[\"weak_topic\"]]                                   #Summarize insights based on weak topics\n",
    "\n",
    "\n",
    "def recommend_focus(avg_correct):                                                          #Recommendations generation\n",
    "    if avg_correct < 1.0:\n",
    "        return \"Urgent: Revise thoroughly\"\n",
    "    elif avg_correct < 1.5:\n",
    "        return \"Focus on practice questions\"\n",
    "    else:\n",
    "        return \"Maintain good performance\"\n",
    "\n",
    "topic_summary[\"recommendation\"] = topic_summary[\"avg_correct_count\"].apply(recommend_focus)\n",
    "\n",
    "\n",
    "print(\"=== Topic-Wise Performance Summary ===\")                                             #output generation\n",
    "print(topic_summary)\n",
    "print(\"\\n=== Recommendations for Improvement ===\")\n",
    "print(topic_summary[[\"topic\", \"difficulty_level\", \"recommendation\"]])\n",
    "\n",
    "\n",
    "topic_summary.to_csv(\"C://Users//haree//Downloads//topicsummary.csv\", index=False)           #save results to output files\n",
    "weak_topics.to_csv(\"C://Users//haree//Downloads//recommendations.csv\", index=False)"
   ]
  },
  {
   "cell_type": "code",
   "execution_count": null,
   "id": "ad418f3d-7d3d-4159-9a5e-eca414be429b",
   "metadata": {},
   "outputs": [],
   "source": []
  }
 ],
 "metadata": {
  "kernelspec": {
   "display_name": "Python 3 (ipykernel)",
   "language": "python",
   "name": "python3"
  },
  "language_info": {
   "codemirror_mode": {
    "name": "ipython",
    "version": 3
   },
   "file_extension": ".py",
   "mimetype": "text/x-python",
   "name": "python",
   "nbconvert_exporter": "python",
   "pygments_lexer": "ipython3",
   "version": "3.11.9"
  }
 },
 "nbformat": 4,
 "nbformat_minor": 5
}
